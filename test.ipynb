{
 "cells": [
  {
   "cell_type": "code",
   "execution_count": 1,
   "id": "ac556210",
   "metadata": {},
   "outputs": [
    {
     "name": "stdout",
     "output_type": "stream",
     "text": [
      "<module 'torchsdf._C' from '/tmp/thirdparty/TorchSDF/torchsdf/_C.so'>\n"
     ]
    },
    {
     "name": "stderr",
     "output_type": "stream",
     "text": [
      "/opt/conda/envs/dexgraspnet/lib/python3.7/site-packages/tqdm/auto.py:21: TqdmWarning: IProgress not found. Please update jupyter and ipywidgets. See https://ipywidgets.readthedocs.io/en/stable/user_install.html\n",
      "  from .autonotebook import tqdm as notebook_tqdm\n"
     ]
    }
   ],
   "source": [
    "import torchsdf\n",
    "print(torchsdf._C)"
   ]
  },
  {
   "cell_type": "code",
   "execution_count": 2,
   "id": "ea306c4b",
   "metadata": {},
   "outputs": [
    {
     "name": "stdout",
     "output_type": "stream",
     "text": [
      "/tmp/thirdparty/TorchSDF/torchsdf/_C.so\n",
      "dict_keys(['__name__', '__doc__', '__package__', '__loader__', '__spec__', 'unbatched_triangle_distance_forward_cuda', 'unbatched_triangle_distance_backward_cuda', '__file__'])\n"
     ]
    }
   ],
   "source": [
    "import torchsdf\n",
    "print(torchsdf._C.__file__)\n",
    "print(torchsdf._C.__dict__.keys())"
   ]
  }
 ],
 "metadata": {
  "kernelspec": {
   "display_name": "dexgraspnet",
   "language": "python",
   "name": "python3"
  },
  "language_info": {
   "codemirror_mode": {
    "name": "ipython",
    "version": 3
   },
   "file_extension": ".py",
   "mimetype": "text/x-python",
   "name": "python",
   "nbconvert_exporter": "python",
   "pygments_lexer": "ipython3",
   "version": "3.7.12"
  }
 },
 "nbformat": 4,
 "nbformat_minor": 5
}
