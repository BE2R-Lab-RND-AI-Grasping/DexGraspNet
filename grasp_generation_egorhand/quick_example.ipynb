{
 "cells": [
  {
   "cell_type": "code",
   "execution_count": 23,
   "metadata": {},
   "outputs": [],
   "source": [
    "import os\n",
    "import random\n",
    "from utils.hand_model_lite import HandModelMJCFLite\n",
    "import numpy as np\n",
    "import transforms3d\n",
    "import torch\n",
    "import trimesh\n"
   ]
  },
  {
   "cell_type": "code",
   "execution_count": null,
   "metadata": {},
   "outputs": [],
   "source": [
    "mesh_path = \"../data/meshdata\"\n",
    "data_path = \"../data/dataset\"\n",
    "\n",
    "use_visual_mesh = False\n",
    "\n",
    "hand_file = \"mjcf/DP-Flex_opened_kinematics_primitives.xml\"\n",
    "\n",
    "joint_names = [\n",
    "    'Joint_left_abduction', 'Joint_left_flexion', 'Joint_left_finray_proxy',\n",
    "        'Joint_right_abduction', 'Joint_right_flexion', 'Joint_right_finray_proxy',\n",
    "        'Joint_thumb_rotation', 'Joint_thumb_abduction', 'Joint_thumb_flexion', 'Joint_thumb_finray_proxy'\n",
    "]\n",
    "translation_names = ['WRJTx', 'WRJTy', 'WRJTz']\n",
    "rot_names = ['WRJRx', 'WRJRy', 'WRJRz']\n"
   ]
  },
  {
   "cell_type": "code",
   "execution_count": 25,
   "metadata": {},
   "outputs": [],
   "source": [
    "hand_model = HandModelMJCFLite(\n",
    "    hand_file,\n",
    "    \"mjcf/assets\")\n"
   ]
  },
  {
   "cell_type": "code",
   "execution_count": 26,
   "metadata": {},
   "outputs": [],
   "source": [
    "grasp_code_list = []\n",
    "for code in os.listdir(data_path):\n",
    "    grasp_code_list.append(code[:-4])\n"
   ]
  },
  {
   "cell_type": "code",
   "execution_count": 27,
   "metadata": {},
   "outputs": [
    {
     "name": "stdout",
     "output_type": "stream",
     "text": [
      "core-bottle-1a7ba1f4c892e2da30711cdbdbc73924\n"
     ]
    }
   ],
   "source": [
    "grasp_code = random.choice(grasp_code_list)\n",
    "grasp_data = np.load(\n",
    "    os.path.join(data_path, grasp_code+\".npy\"), allow_pickle=True)\n",
    "object_mesh_origin = trimesh.load(os.path.join(\n",
    "    mesh_path, grasp_code, \"coacd/decomposed.obj\"))\n",
    "print(grasp_code)\n"
   ]
  },
  {
   "cell_type": "code",
   "execution_count": 28,
   "metadata": {},
   "outputs": [
    {
     "ename": "AssertionError",
     "evalue": "",
     "output_type": "error",
     "traceback": [
      "\u001b[0;31m---------------------------------------------------------------------------\u001b[0m",
      "\u001b[0;31mAssertionError\u001b[0m                            Traceback (most recent call last)",
      "\u001b[0;32m/tmp/ipykernel_675/366312741.py\u001b[0m in \u001b[0;36m<module>\u001b[0;34m\u001b[0m\n\u001b[1;32m      8\u001b[0m hand_pose = torch.tensor([qpos[name] for name in translation_names] + rot + [qpos[name]\n\u001b[1;32m      9\u001b[0m                          for name in joint_names], dtype=torch.float, device=\"cpu\").unsqueeze(0)\n\u001b[0;32m---> 10\u001b[0;31m \u001b[0mhand_model\u001b[0m\u001b[0;34m.\u001b[0m\u001b[0mset_parameters\u001b[0m\u001b[0;34m(\u001b[0m\u001b[0mhand_pose\u001b[0m\u001b[0;34m)\u001b[0m\u001b[0;34m\u001b[0m\u001b[0;34m\u001b[0m\u001b[0m\n\u001b[0m\u001b[1;32m     11\u001b[0m \u001b[0mhand_mesh\u001b[0m \u001b[0;34m=\u001b[0m \u001b[0mhand_model\u001b[0m\u001b[0;34m.\u001b[0m\u001b[0mget_trimesh_data\u001b[0m\u001b[0;34m(\u001b[0m\u001b[0;36m0\u001b[0m\u001b[0;34m)\u001b[0m\u001b[0;34m\u001b[0m\u001b[0;34m\u001b[0m\u001b[0m\n\u001b[1;32m     12\u001b[0m \u001b[0mobject_mesh\u001b[0m \u001b[0;34m=\u001b[0m \u001b[0mobject_mesh_origin\u001b[0m\u001b[0;34m.\u001b[0m\u001b[0mcopy\u001b[0m\u001b[0;34m(\u001b[0m\u001b[0;34m)\u001b[0m\u001b[0;34m.\u001b[0m\u001b[0mapply_scale\u001b[0m\u001b[0;34m(\u001b[0m\u001b[0mgrasp_data\u001b[0m\u001b[0;34m[\u001b[0m\u001b[0mindex\u001b[0m\u001b[0;34m]\u001b[0m\u001b[0;34m[\u001b[0m\u001b[0;34m\"scale\"\u001b[0m\u001b[0;34m]\u001b[0m\u001b[0;34m)\u001b[0m\u001b[0;34m\u001b[0m\u001b[0;34m\u001b[0m\u001b[0m\n",
      "\u001b[0;32m/workspace/grasp_generation_egorhand/utils/hand_model_lite.py\u001b[0m in \u001b[0;36mset_parameters\u001b[0;34m(self, hand_pose)\u001b[0m\n\u001b[1;32m    110\u001b[0m             self.hand_pose[:, 3:9])\n\u001b[1;32m    111\u001b[0m         self.current_status = self.chain.forward_kinematics(\n\u001b[0;32m--> 112\u001b[0;31m             self.hand_pose[:, 9:])\n\u001b[0m\u001b[1;32m    113\u001b[0m \u001b[0;34m\u001b[0m\u001b[0m\n\u001b[1;32m    114\u001b[0m     \u001b[0;32mdef\u001b[0m \u001b[0mget_trimesh_data\u001b[0m\u001b[0;34m(\u001b[0m\u001b[0mself\u001b[0m\u001b[0;34m,\u001b[0m \u001b[0mi\u001b[0m\u001b[0;34m)\u001b[0m\u001b[0;34m:\u001b[0m\u001b[0;34m\u001b[0m\u001b[0;34m\u001b[0m\u001b[0m\n",
      "\u001b[0;32m/tmp/thirdparty/pytorch_kinematics/pytorch_kinematics/chain.py\u001b[0m in \u001b[0;36mforward_kinematics\u001b[0;34m(self, th, world)\u001b[0m\n\u001b[1;32m     98\u001b[0m         \u001b[0;32mif\u001b[0m \u001b[0;32mnot\u001b[0m \u001b[0misinstance\u001b[0m\u001b[0;34m(\u001b[0m\u001b[0mth\u001b[0m\u001b[0;34m,\u001b[0m \u001b[0mdict\u001b[0m\u001b[0;34m)\u001b[0m\u001b[0;34m:\u001b[0m\u001b[0;34m\u001b[0m\u001b[0;34m\u001b[0m\u001b[0m\n\u001b[1;32m     99\u001b[0m             \u001b[0mjn\u001b[0m \u001b[0;34m=\u001b[0m \u001b[0mself\u001b[0m\u001b[0;34m.\u001b[0m\u001b[0mget_joint_parameter_names\u001b[0m\u001b[0;34m(\u001b[0m\u001b[0;34m)\u001b[0m\u001b[0;34m\u001b[0m\u001b[0;34m\u001b[0m\u001b[0m\n\u001b[0;32m--> 100\u001b[0;31m             \u001b[0;32massert\u001b[0m \u001b[0mlen\u001b[0m\u001b[0;34m(\u001b[0m\u001b[0mjn\u001b[0m\u001b[0;34m)\u001b[0m \u001b[0;34m==\u001b[0m \u001b[0mth\u001b[0m\u001b[0;34m.\u001b[0m\u001b[0mshape\u001b[0m\u001b[0;34m[\u001b[0m\u001b[0;36m1\u001b[0m\u001b[0;34m]\u001b[0m\u001b[0;34m\u001b[0m\u001b[0;34m\u001b[0m\u001b[0m\n\u001b[0m\u001b[1;32m    101\u001b[0m             \u001b[0mth_dict\u001b[0m \u001b[0;34m=\u001b[0m \u001b[0mdict\u001b[0m\u001b[0;34m(\u001b[0m\u001b[0;34m(\u001b[0m\u001b[0mj\u001b[0m\u001b[0;34m,\u001b[0m \u001b[0mth\u001b[0m\u001b[0;34m[\u001b[0m\u001b[0;34m:\u001b[0m\u001b[0;34m,\u001b[0m\u001b[0mi\u001b[0m\u001b[0;34m]\u001b[0m\u001b[0;34m)\u001b[0m \u001b[0;32mfor\u001b[0m \u001b[0mi\u001b[0m\u001b[0;34m,\u001b[0m \u001b[0mj\u001b[0m \u001b[0;32min\u001b[0m \u001b[0menumerate\u001b[0m\u001b[0;34m(\u001b[0m\u001b[0mjn\u001b[0m\u001b[0;34m)\u001b[0m\u001b[0;34m)\u001b[0m\u001b[0;34m\u001b[0m\u001b[0;34m\u001b[0m\u001b[0m\n\u001b[1;32m    102\u001b[0m         \u001b[0;32melse\u001b[0m\u001b[0;34m:\u001b[0m\u001b[0;34m\u001b[0m\u001b[0;34m\u001b[0m\u001b[0m\n",
      "\u001b[0;31mAssertionError\u001b[0m: "
     ]
    }
   ],
   "source": [
    "index = random.randint(0, len(grasp_data) - 1)\n",
    "\n",
    "\n",
    "qpos = grasp_data[index]['qpos']\n",
    "rot = np.array(transforms3d.euler.euler2mat(\n",
    "    *[qpos[name] for name in rot_names]))\n",
    "rot = rot[:, :2].T.ravel().tolist()\n",
    "hand_pose = torch.tensor([qpos[name] for name in translation_names] + rot + [qpos[name]\n",
    "                         for name in joint_names], dtype=torch.float, device=\"cpu\").unsqueeze(0)\n",
    "hand_model.set_parameters(hand_pose)\n",
    "hand_mesh = hand_model.get_trimesh_data(0)\n",
    "object_mesh = object_mesh_origin.copy().apply_scale(grasp_data[index][\"scale\"])\n"
   ]
  },
  {
   "cell_type": "code",
   "execution_count": null,
   "metadata": {},
   "outputs": [],
   "source": [
    "(hand_mesh+object_mesh).show()\n",
    "# (hand_mesh).show()\n",
    "# (object_mesh).show()"
   ]
  }
 ],
 "metadata": {
  "kernelspec": {
   "display_name": "dexgraspnet",
   "language": "python",
   "name": "python3"
  },
  "language_info": {
   "codemirror_mode": {
    "name": "ipython",
    "version": 3
   },
   "file_extension": ".py",
   "mimetype": "text/x-python",
   "name": "python",
   "nbconvert_exporter": "python",
   "pygments_lexer": "ipython3",
   "version": "3.7.7"
  },
  "orig_nbformat": 4
 },
 "nbformat": 4,
 "nbformat_minor": 2
}
