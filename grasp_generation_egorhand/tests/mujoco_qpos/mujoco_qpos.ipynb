{
 "cells": [
  {
   "cell_type": "code",
   "execution_count": 24,
   "id": "79fca3f5",
   "metadata": {},
   "outputs": [],
   "source": [
    "import numpy as np\n",
    "import mujoco\n",
    "import numpy as np\n",
    "from mujoco import viewer\n",
    "from math import radians\n",
    "import time"
   ]
  },
  {
   "cell_type": "markdown",
   "id": "9ed942f0",
   "metadata": {},
   "source": [
    "Читаем угловые положения для всех сочленений из сгенерированного файла npy"
   ]
  },
  {
   "cell_type": "code",
   "execution_count": 65,
   "id": "1b0b2bfc",
   "metadata": {},
   "outputs": [
    {
     "name": "stdout",
     "output_type": "stream",
     "text": [
      "[{'scale': 0.0010000000474974513, 'qpos': {'Joint_left_abduction': 7.446968078613281, 'Joint_left_flexion': 4.58904504776001, 'Joint_left_finray_proxy': 3.1274750232696533, 'Joint_right_abduction': 9.580496788024902, 'Joint_right_flexion': 6.695765972137451, 'Joint_right_finray_proxy': 6.219314098358154, 'Joint_thumb_rotation': 3.433148145675659, 'Joint_thumb_abduction': 8.531776428222656, 'Joint_thumb_flexion': 1.9781464338302612, 'Joint_thumb_finray_proxy': 7.608630657196045, 'WRJRx': -0.6534716409107846, 'WRJRy': 0.11928224646165585, 'WRJRz': -3.031159839634761, 'WRJTx': 0.05405751243233681, 'WRJTy': 0.02521440200507641, 'WRJTz': -0.15041512250900269}, 'qpos_st': {'Joint_left_abduction': 8.0177583694458, 'Joint_left_flexion': 5.092178821563721, 'Joint_left_finray_proxy': 3.709974765777588, 'Joint_right_abduction': 10.830967903137207, 'Joint_right_flexion': 5.189146995544434, 'Joint_right_finray_proxy': 6.180093288421631, 'Joint_thumb_rotation': 3.634108781814575, 'Joint_thumb_abduction': 7.705962181091309, 'Joint_thumb_flexion': 1.8744138479232788, 'Joint_thumb_finray_proxy': 7.7211456298828125, 'WRJRx': -1.0710036930196676, 'WRJRy': -0.3616244744245083, 'WRJRz': -3.0424737023026003, 'WRJTx': 0.06550592929124832, 'WRJTy': 0.05503985285758972, 'WRJTz': -0.28467440605163574}, 'energy': 3.401798725128174, 'E_fc': 2.59645676612854, 'E_dis': 0.008053419180214405, 'E_pen': 0.0, 'E_spen': 0.0, 'E_joints': 0.0}\n",
      " {'scale': 0.0006000000284984708, 'qpos': {'Joint_left_abduction': 2.246225595474243, 'Joint_left_flexion': 8.21792221069336, 'Joint_left_finray_proxy': 5.32564640045166, 'Joint_right_abduction': 4.905989646911621, 'Joint_right_flexion': 7.163211822509766, 'Joint_right_finray_proxy': 6.451542377471924, 'Joint_thumb_rotation': 6.646313190460205, 'Joint_thumb_abduction': 2.8908722400665283, 'Joint_thumb_flexion': 1.5780833959579468, 'Joint_thumb_finray_proxy': 1.2085292339324951, 'WRJRx': 1.0607536856842068, 'WRJRy': -0.6018155917870102, 'WRJRz': 2.015032519115605, 'WRJTx': -0.2658880949020386, 'WRJTy': 0.019852763041853905, 'WRJTz': -0.08591864258050919}, 'qpos_st': {'Joint_left_abduction': 3.22420597076416, 'Joint_left_flexion': 8.860101699829102, 'Joint_left_finray_proxy': 5.275747776031494, 'Joint_right_abduction': 3.376638412475586, 'Joint_right_flexion': 6.162395477294922, 'Joint_right_finray_proxy': 5.824832439422607, 'Joint_thumb_rotation': 6.5139312744140625, 'Joint_thumb_abduction': 2.803546190261841, 'Joint_thumb_flexion': 0.6043618321418762, 'Joint_thumb_finray_proxy': 0.7895132303237915, 'WRJRx': 0.8606805879941987, 'WRJRy': -0.5260583135133601, 'WRJRz': 1.7071723076956964, 'WRJTx': -0.6983898878097534, 'WRJTy': -0.04237751290202141, 'WRJTz': 0.06645995378494263}, 'energy': 1.149742603302002, 'E_fc': 0.9442666172981262, 'E_dis': 0.002051743445917964, 'E_pen': 3.0156224966049194e-06, 'E_spen': 0.0, 'E_joints': 0.0}\n",
      " {'scale': 0.001500000013038516, 'qpos': {'Joint_left_abduction': 7.836925029754639, 'Joint_left_flexion': 2.1482274532318115, 'Joint_left_finray_proxy': 5.281495571136475, 'Joint_right_abduction': 0.6960756182670593, 'Joint_right_flexion': 0.8693790435791016, 'Joint_right_finray_proxy': 0.7052634358406067, 'Joint_thumb_rotation': 4.783770561218262, 'Joint_thumb_abduction': 8.315299987792969, 'Joint_thumb_flexion': 1.8867510557174683, 'Joint_thumb_finray_proxy': 6.859225273132324, 'WRJRx': 1.266699285885094, 'WRJRy': 0.005498969112458213, 'WRJRz': -2.0456765167315067, 'WRJTx': 0.4553551971912384, 'WRJTy': -0.05764045566320419, 'WRJTz': -0.0778878852725029}, 'qpos_st': {'Joint_left_abduction': 8.753005027770996, 'Joint_left_flexion': 3.884230375289917, 'Joint_left_finray_proxy': 3.85730242729187, 'Joint_right_abduction': 0.7827749252319336, 'Joint_right_flexion': 1.2726693153381348, 'Joint_right_finray_proxy': 2.6963324546813965, 'Joint_thumb_rotation': 4.289968967437744, 'Joint_thumb_abduction': 9.079017639160156, 'Joint_thumb_flexion': 1.5576194524765015, 'Joint_thumb_finray_proxy': 5.899058818817139, 'WRJRx': 0.6291248765796597, 'WRJRy': 0.059920748425254175, 'WRJRz': -2.048505248200286, 'WRJTx': 0.6889209151268005, 'WRJTy': -0.2978772521018982, 'WRJTz': 0.06708928197622299}, 'energy': 0.17972062528133392, 'E_fc': 0.17920981347560883, 'E_dis': 5.1081087804050185e-06, 'E_pen': 0.0, 'E_spen': 0.0, 'E_joints': 0.0}\n",
      " {'scale': 0.0010000000474974513, 'qpos': {'Joint_left_abduction': 0.4217415452003479, 'Joint_left_flexion': 17.41105842590332, 'Joint_left_finray_proxy': 10.460373878479004, 'Joint_right_abduction': 18.182392120361328, 'Joint_right_flexion': 3.8490872383117676, 'Joint_right_finray_proxy': 11.75259780883789, 'Joint_thumb_rotation': 7.021027088165283, 'Joint_thumb_abduction': 11.656254768371582, 'Joint_thumb_flexion': 6.023375988006592, 'Joint_thumb_finray_proxy': 0.43956565856933594, 'WRJRx': 0.7609105653748287, 'WRJRy': -0.3530704527085218, 'WRJRz': -1.2883114277023415, 'WRJTx': 0.1791248917579651, 'WRJTy': -0.019074194133281708, 'WRJTz': -0.03200802579522133}, 'qpos_st': {'Joint_left_abduction': 0.46029290556907654, 'Joint_left_flexion': 18.16423225402832, 'Joint_left_finray_proxy': 10.191473007202148, 'Joint_right_abduction': 17.269887924194336, 'Joint_right_flexion': 4.149681091308594, 'Joint_right_finray_proxy': 11.591089248657227, 'Joint_thumb_rotation': 7.298476696014404, 'Joint_thumb_abduction': 12.099479675292969, 'Joint_thumb_flexion': 5.733418941497803, 'Joint_thumb_finray_proxy': 0.26999595761299133, 'WRJRx': 0.49773358764396314, 'WRJRy': -0.09725621256151551, 'WRJRz': -1.1848303933924123, 'WRJTx': 0.695479691028595, 'WRJTy': 0.27288028597831726, 'WRJTz': 0.01732080616056919}, 'energy': 1.588491439819336, 'E_fc': 1.075721263885498, 'E_dis': 0.005127700977027416, 'E_pen': 0.0, 'E_spen': 0.0, 'E_joints': 0.0}\n",
      " {'scale': 0.0007999999797903001, 'qpos': {'Joint_left_abduction': 3.5858023166656494, 'Joint_left_flexion': 11.683369636535645, 'Joint_left_finray_proxy': 2.1072654724121094, 'Joint_right_abduction': 11.575027465820312, 'Joint_right_flexion': 3.5268096923828125, 'Joint_right_finray_proxy': 9.108424186706543, 'Joint_thumb_rotation': 3.780574083328247, 'Joint_thumb_abduction': 1.5745978355407715, 'Joint_thumb_flexion': 5.653625965118408, 'Joint_thumb_finray_proxy': 0.002821048954501748, 'WRJRx': 0.5729786574127778, 'WRJRy': 0.7764242893633763, 'WRJRz': 1.9683068380986894, 'WRJTx': -0.18012475967407227, 'WRJTy': -0.04152648523449898, 'WRJTz': -0.059065643697977066}, 'qpos_st': {'Joint_left_abduction': 3.444157600402832, 'Joint_left_flexion': 12.067367553710938, 'Joint_left_finray_proxy': 2.8354201316833496, 'Joint_right_abduction': 10.619982719421387, 'Joint_right_flexion': 3.6671066284179688, 'Joint_right_finray_proxy': 9.380960464477539, 'Joint_thumb_rotation': 4.516358375549316, 'Joint_thumb_abduction': 1.2559467554092407, 'Joint_thumb_flexion': 6.361774921417236, 'Joint_thumb_finray_proxy': 0.4419439733028412, 'WRJRx': 0.7193759259447746, 'WRJRy': 1.0112906181877983, 'WRJRz': 2.7375339817344426, 'WRJTx': -0.29120874404907227, 'WRJTy': -0.2811466455459595, 'WRJTz': 0.032454606145620346}, 'energy': 0.09336572885513306, 'E_fc': 0.08555164188146591, 'E_dis': 7.814089622115716e-05, 'E_pen': 0.0, 'E_spen': 0.0, 'E_joints': 0.0}]\n"
     ]
    }
   ],
   "source": [
    "# Заменить 'имя_файла.npy' на путь к твоему файлу\n",
    "data = np.load('qpos_dataset.npy', allow_pickle=True)\n",
    "\n",
    "print(data)"
   ]
  },
  {
   "cell_type": "code",
   "execution_count": 78,
   "id": "f05e3657",
   "metadata": {},
   "outputs": [],
   "source": [
    "# Путь к XML-файлу и qpos\n",
    "xml_path = \"hand_object.xml\"\n",
    "qpos_path = \"qpos_dataset.npy\"\n",
    "\n",
    "# # Загрузка модели и данных\n",
    "model = mujoco.MjModel.from_xml_path(xml_path)\n",
    "data = mujoco.MjData(model)"
   ]
  },
  {
   "cell_type": "code",
   "execution_count": 79,
   "id": "ae8ec79d",
   "metadata": {},
   "outputs": [
    {
     "name": "stdout",
     "output_type": "stream",
     "text": [
      "{'Joint_left_abduction': 7.446968078613281, 'Joint_left_flexion': 4.58904504776001, 'Joint_left_finray_proxy': 3.1274750232696533, 'Joint_right_abduction': 9.580496788024902, 'Joint_right_flexion': 6.695765972137451, 'Joint_right_finray_proxy': 6.219314098358154, 'Joint_thumb_rotation': 3.433148145675659, 'Joint_thumb_abduction': 8.531776428222656, 'Joint_thumb_flexion': 1.9781464338302612, 'Joint_thumb_finray_proxy': 7.608630657196045, 'WRJRx': -0.6534716409107846, 'WRJRy': 0.11928224646165585, 'WRJRz': -3.031159839634761, 'WRJTx': 0.05405751243233681, 'WRJTy': 0.02521440200507641, 'WRJTz': -0.15041512250900269}\n"
     ]
    }
   ],
   "source": [
    "# Загрузка qpos из .npy файла\n",
    "data_list = np.load(\"qpos_dataset.npy\", allow_pickle=True)\n",
    "sample = data_list[0]  # Возьмём первую позу\n",
    "qpos_dict = sample['qpos']\n",
    "\n",
    "print(qpos_dict)"
   ]
  },
  {
   "cell_type": "code",
   "execution_count": 80,
   "id": "788c1730",
   "metadata": {},
   "outputs": [
    {
     "name": "stdout",
     "output_type": "stream",
     "text": [
      "Joint_left_abduction\n",
      "7.446968078613281\n",
      "Joint_left_flexion\n",
      "4.58904504776001\n",
      "Joint_left_finray_proxy\n",
      "3.1274750232696533\n",
      "Joint_right_abduction\n",
      "9.580496788024902\n",
      "Joint_right_flexion\n",
      "6.695765972137451\n",
      "Joint_right_finray_proxy\n",
      "6.219314098358154\n",
      "Joint_thumb_rotation\n",
      "3.433148145675659\n",
      "Joint_thumb_abduction\n",
      "8.531776428222656\n",
      "Joint_thumb_flexion\n",
      "1.9781464338302612\n",
      "Joint_thumb_finray_proxy\n",
      "7.608630657196045\n",
      "[7.44696808 4.58904505 3.12747502 9.58049679 6.69576597 6.2193141\n",
      " 3.43314815 8.53177643 1.97814643 7.60863066]\n"
     ]
    }
   ],
   "source": [
    "# Создаём массив qpos в правильном порядке\n",
    "qpos_array = np.zeros(model.nq)\n",
    "for i in range(model.nq):\n",
    "    joint_name = mujoco.mj_id2name(model, mujoco.mjtObj.mjOBJ_JOINT, i)\n",
    "    print(joint_name)\n",
    "    if joint_name in qpos_dict:\n",
    "        qpos_array[i] = qpos_dict[joint_name]\n",
    "        print(qpos_array[i])\n",
    "    else:\n",
    "        print(f\"Warning: joint '{joint_name}' not found in qpos_dict — using 0\")\n",
    "\n",
    "print(qpos_array)"
   ]
  },
  {
   "cell_type": "code",
   "execution_count": 84,
   "id": "b8050d9d",
   "metadata": {},
   "outputs": [
    {
     "name": "stdout",
     "output_type": "stream",
     "text": [
      "[0.12997411 0.08009395 0.05458474 0.16721121 0.11686316 0.10854751\n",
      " 0.05991974 0.14890759 0.03452517 0.13279566]\n"
     ]
    }
   ],
   "source": [
    "# Transform to radians\n",
    "for i in range(model.nq):\n",
    "    joint_name = mujoco.mj_id2name(model, mujoco.mjtObj.mjOBJ_JOINT, i)\n",
    "    if joint_name in qpos_dict:\n",
    "        qpos_array[i] = radians(qpos_dict[joint_name])\n",
    "        qpos_array[i] = qpos_array[i]\n",
    "\n",
    "print(qpos_array)"
   ]
  },
  {
   "cell_type": "code",
   "execution_count": 82,
   "id": "c0d9d1de",
   "metadata": {},
   "outputs": [],
   "source": [
    "# Установка qpos\n",
    "data.qpos[:] = qpos_array\n",
    "mujoco.mj_forward(model, data)"
   ]
  },
  {
   "cell_type": "code",
   "execution_count": 83,
   "id": "f816daaf",
   "metadata": {},
   "outputs": [
    {
     "name": "stdout",
     "output_type": "stream",
     "text": [
      "Press ESC to exit\n"
     ]
    }
   ],
   "source": [
    "# Визуализация\n",
    "with viewer.launch_passive(model, data) as v:\n",
    "    print(\"Press ESC to exit\")\n",
    "    while v.is_running():\n",
    "        v.sync()"
   ]
  },
  {
   "cell_type": "markdown",
   "id": "1cf5564f",
   "metadata": {},
   "source": [
    "## Последовательность поз"
   ]
  },
  {
   "cell_type": "code",
   "execution_count": 85,
   "id": "9bba7301",
   "metadata": {},
   "outputs": [
    {
     "name": "stdout",
     "output_type": "stream",
     "text": [
      "[{'Joint_left_abduction': 7.446968078613281, 'Joint_left_flexion': 4.58904504776001, 'Joint_left_finray_proxy': 3.1274750232696533, 'Joint_right_abduction': 9.580496788024902, 'Joint_right_flexion': 6.695765972137451, 'Joint_right_finray_proxy': 6.219314098358154, 'Joint_thumb_rotation': 3.433148145675659, 'Joint_thumb_abduction': 8.531776428222656, 'Joint_thumb_flexion': 1.9781464338302612, 'Joint_thumb_finray_proxy': 7.608630657196045, 'WRJRx': -0.6534716409107846, 'WRJRy': 0.11928224646165585, 'WRJRz': -3.031159839634761, 'WRJTx': 0.05405751243233681, 'WRJTy': 0.02521440200507641, 'WRJTz': -0.15041512250900269}, {'Joint_left_abduction': 2.246225595474243, 'Joint_left_flexion': 8.21792221069336, 'Joint_left_finray_proxy': 5.32564640045166, 'Joint_right_abduction': 4.905989646911621, 'Joint_right_flexion': 7.163211822509766, 'Joint_right_finray_proxy': 6.451542377471924, 'Joint_thumb_rotation': 6.646313190460205, 'Joint_thumb_abduction': 2.8908722400665283, 'Joint_thumb_flexion': 1.5780833959579468, 'Joint_thumb_finray_proxy': 1.2085292339324951, 'WRJRx': 1.0607536856842068, 'WRJRy': -0.6018155917870102, 'WRJRz': 2.015032519115605, 'WRJTx': -0.2658880949020386, 'WRJTy': 0.019852763041853905, 'WRJTz': -0.08591864258050919}, {'Joint_left_abduction': 7.836925029754639, 'Joint_left_flexion': 2.1482274532318115, 'Joint_left_finray_proxy': 5.281495571136475, 'Joint_right_abduction': 0.6960756182670593, 'Joint_right_flexion': 0.8693790435791016, 'Joint_right_finray_proxy': 0.7052634358406067, 'Joint_thumb_rotation': 4.783770561218262, 'Joint_thumb_abduction': 8.315299987792969, 'Joint_thumb_flexion': 1.8867510557174683, 'Joint_thumb_finray_proxy': 6.859225273132324, 'WRJRx': 1.266699285885094, 'WRJRy': 0.005498969112458213, 'WRJRz': -2.0456765167315067, 'WRJTx': 0.4553551971912384, 'WRJTy': -0.05764045566320419, 'WRJTz': -0.0778878852725029}, {'Joint_left_abduction': 0.4217415452003479, 'Joint_left_flexion': 17.41105842590332, 'Joint_left_finray_proxy': 10.460373878479004, 'Joint_right_abduction': 18.182392120361328, 'Joint_right_flexion': 3.8490872383117676, 'Joint_right_finray_proxy': 11.75259780883789, 'Joint_thumb_rotation': 7.021027088165283, 'Joint_thumb_abduction': 11.656254768371582, 'Joint_thumb_flexion': 6.023375988006592, 'Joint_thumb_finray_proxy': 0.43956565856933594, 'WRJRx': 0.7609105653748287, 'WRJRy': -0.3530704527085218, 'WRJRz': -1.2883114277023415, 'WRJTx': 0.1791248917579651, 'WRJTy': -0.019074194133281708, 'WRJTz': -0.03200802579522133}, {'Joint_left_abduction': 3.5858023166656494, 'Joint_left_flexion': 11.683369636535645, 'Joint_left_finray_proxy': 2.1072654724121094, 'Joint_right_abduction': 11.575027465820312, 'Joint_right_flexion': 3.5268096923828125, 'Joint_right_finray_proxy': 9.108424186706543, 'Joint_thumb_rotation': 3.780574083328247, 'Joint_thumb_abduction': 1.5745978355407715, 'Joint_thumb_flexion': 5.653625965118408, 'Joint_thumb_finray_proxy': 0.002821048954501748, 'WRJRx': 0.5729786574127778, 'WRJRy': 0.7764242893633763, 'WRJRz': 1.9683068380986894, 'WRJTx': -0.18012475967407227, 'WRJTy': -0.04152648523449898, 'WRJTz': -0.059065643697977066}]\n"
     ]
    }
   ],
   "source": [
    "data_list = np.load(\"qpos_dataset.npy\", allow_pickle=True)\n",
    "\n",
    "poses = [entry['qpos'] for entry in data_list]\n",
    "\n",
    "print(poses)\n"
   ]
  },
  {
   "cell_type": "code",
   "execution_count": 86,
   "id": "8ac8a82e",
   "metadata": {},
   "outputs": [],
   "source": [
    "# Настройка визуализации (без окна)\n",
    "renderer = mujoco.Renderer(model)\n",
    "duration_per_pose = 0.5  # секунд\n",
    "fps = 30\n",
    "frames_per_pose = int(duration_per_pose * fps)"
   ]
  },
  {
   "cell_type": "code",
   "execution_count": 87,
   "id": "722a70d4",
   "metadata": {},
   "outputs": [],
   "source": [
    "# Функция: обновить позу из словаря\n",
    "def set_qpos_from_dict(model, data, qpos_dict):\n",
    "    qpos_array = np.zeros(model.nq)\n",
    "    for j in range(model.njnt):\n",
    "        joint_name = mujoco.mj_id2name(model, mujoco.mjtObj.mjOBJ_JOINT, j)\n",
    "        if joint_name in qpos_dict:\n",
    "            if 'T' in joint_name:  # трансляция — оставляем как есть\n",
    "                qpos_array[j] = qpos_dict[joint_name]\n",
    "            else:  # вращение — переводим в радианы\n",
    "                qpos_array[j] = np.deg2rad(qpos_dict[joint_name])\n",
    "    \n",
    "    data.qpos[:] = qpos_array\n",
    "    mujoco.mj_forward(model, data)"
   ]
  },
  {
   "cell_type": "code",
   "execution_count": 88,
   "id": "262e0f40",
   "metadata": {},
   "outputs": [],
   "source": [
    "# Запуск визуализации и анимации\n",
    "with mujoco.viewer.launch_passive(model, data) as viewer:\n",
    "    while viewer.is_running():\n",
    "        for pose in poses:\n",
    "            set_qpos_from_dict(model, data, pose)\n",
    "            viewer.sync()\n",
    "            time.sleep(0.5)  # Задержка между позами"
   ]
  },
  {
   "cell_type": "markdown",
   "id": "21cefaa8",
   "metadata": {},
   "source": [
    "## Визуализация руки с капсулями контакта"
   ]
  },
  {
   "cell_type": "code",
   "execution_count": 93,
   "id": "d4a42d7b",
   "metadata": {},
   "outputs": [],
   "source": [
    "# Путь к XML-файлу и qpos\n",
    "xml_path = \"DP-Flex_opened_kinematics_contact_capsules.xml\"\n",
    "\n",
    "# # Загрузка модели и данных\n",
    "model = mujoco.MjModel.from_xml_path(xml_path)\n",
    "data = mujoco.MjData(model)\n"
   ]
  },
  {
   "cell_type": "code",
   "execution_count": 94,
   "id": "d4ef3002",
   "metadata": {},
   "outputs": [
    {
     "ename": "AttributeError",
     "evalue": "'Handle' object has no attribute 'launch_passive'",
     "output_type": "error",
     "traceback": [
      "\u001b[0;31m---------------------------------------------------------------------------\u001b[0m",
      "\u001b[0;31mAttributeError\u001b[0m                            Traceback (most recent call last)",
      "Cell \u001b[0;32mIn[94], line 2\u001b[0m\n\u001b[1;32m      1\u001b[0m \u001b[38;5;66;03m# Визуализация\u001b[39;00m\n\u001b[0;32m----> 2\u001b[0m \u001b[38;5;28;01mwith\u001b[39;00m \u001b[43mviewer\u001b[49m\u001b[38;5;241;43m.\u001b[39;49m\u001b[43mlaunch_passive\u001b[49m(model, data) \u001b[38;5;28;01mas\u001b[39;00m v:\n\u001b[1;32m      3\u001b[0m     \u001b[38;5;28mprint\u001b[39m(\u001b[38;5;124m\"\u001b[39m\u001b[38;5;124mPress ESC to exit\u001b[39m\u001b[38;5;124m\"\u001b[39m)\n\u001b[1;32m      4\u001b[0m     \u001b[38;5;28;01mwhile\u001b[39;00m v\u001b[38;5;241m.\u001b[39mis_running():\n",
      "\u001b[0;31mAttributeError\u001b[0m: 'Handle' object has no attribute 'launch_passive'"
     ]
    }
   ],
   "source": [
    "# Визуализация\n",
    "with viewer.launch_passive(model, data) as v:\n",
    "    print(\"Press ESC to exit\")\n",
    "    while v.is_running():\n",
    "        v.sync()"
   ]
  }
 ],
 "metadata": {
  "kernelspec": {
   "display_name": "mjx_py310",
   "language": "python",
   "name": "python3"
  },
  "language_info": {
   "codemirror_mode": {
    "name": "ipython",
    "version": 3
   },
   "file_extension": ".py",
   "mimetype": "text/x-python",
   "name": "python",
   "nbconvert_exporter": "python",
   "pygments_lexer": "ipython3",
   "version": "3.10.16"
  }
 },
 "nbformat": 4,
 "nbformat_minor": 5
}
